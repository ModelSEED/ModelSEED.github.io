{
 "cells": [
  {
   "cell_type": "code",
   "execution_count": 8,
   "metadata": {},
   "outputs": [],
   "source": [
    "import escher\n",
    "import cobrakbase\n",
    "import copy"
   ]
  },
  {
   "cell_type": "code",
   "execution_count": 4,
   "metadata": {},
   "outputs": [
    {
     "name": "stdout",
     "output_type": "stream",
     "text": [
      "load: /Users/fliu/workspace/jupyter/ModelSEEDDatabase/Biochemistry/reactions.tsv\n",
      "load: /Users/fliu/workspace/jupyter/ModelSEEDDatabase/Biochemistry/compounds.tsv\n",
      "load: /Users/fliu/workspace/jupyter/ModelSEEDDatabase/Biochemistry/Structures/Unique_ModelSEED_Structures.txt\n",
      "load: /Users/fliu/workspace/jupyter/ModelSEEDDatabase/Biochemistry/Aliases/Unique_ModelSEED_Compound_Aliases.txt\n",
      "load: /Users/fliu/workspace/jupyter/ModelSEEDDatabase/Biochemistry/Aliases/Unique_ModelSEED_Reaction_Aliases.txt\n",
      "load: /Users/fliu/workspace/jupyter/ModelSEEDDatabase/Biochemistry/Aliases/Unique_ModelSEED_Reaction_ECs.txt\n"
     ]
    }
   ],
   "source": [
    "modelseed_local = cobrakbase.modelseed.from_local('/Users/fliu/workspace/jupyter/ModelSEEDDatabase')"
   ]
  },
  {
   "cell_type": "code",
   "execution_count": 5,
   "metadata": {},
   "outputs": [],
   "source": [
    "cobra_metabolite = {\n",
    "    'id': 'cpdXXXXX',\n",
    "    'name': 'compound name',\n",
    "    'compartment': 'c',\n",
    "    'charge': 0,\n",
    "    'formula': '',\n",
    "    'annotation': {}\n",
    "}\n",
    "cobra_reaction = {\n",
    "    'id': 'rxnXXXXX',\n",
    "    'name': 'reaction name',\n",
    "    'metabolites': {'cpdXXXX1': -1.0,\n",
    "                    'cpdXXXX2': 1.0,\n",
    "                    'cpdXXXX3': 1.0\n",
    "                   },\n",
    "    'lower_bound': -1000.0,\n",
    "    'upper_bound': 1000.0,\n",
    "    'gene_reaction_rule': '',\n",
    "    'annotation': {}\n",
    "}"
   ]
  },
  {
   "cell_type": "code",
   "execution_count": null,
   "metadata": {},
   "outputs": [],
   "source": [
    "rxn_build_template = {}\n",
    "for rxn_id in modelseed_local.reactions:\n",
    "    rxn = modelseed_local.get_seed_reaction(rxn_id)\n",
    "    cmps = set(map(lambda x : x[1], rxn.cstoichiometry))\n",
    "    if not rxn.is_obsolete:\n",
    "        if len(cmps) == 1:\n",
    "            rxn_build_template[rxn.id] = [{'0' : 'c', '1' : 'c'}]\n",
    "        elif len(cmps) == 2:\n",
    "            rxn_build_template[rxn.id] = [{'0' : 'e', '1' : 'c'}, {'0' : 'c', '1' : 'e'}]\n",
    "        else:\n",
    "            #print(rxn.id)\n",
    "            pass"
   ]
  },
  {
   "cell_type": "code",
   "execution_count": 32,
   "metadata": {},
   "outputs": [
    {
     "ename": "NameError",
     "evalue": "name 'rxn_build_template' is not defined",
     "output_type": "error",
     "traceback": [
      "\u001b[0;31m---------------------------------------------------------------------------\u001b[0m",
      "\u001b[0;31mNameError\u001b[0m                                 Traceback (most recent call last)",
      "\u001b[0;32m<ipython-input-32-ce5791656896>\u001b[0m in \u001b[0;36m<module>\u001b[0;34m\u001b[0m\n\u001b[1;32m     38\u001b[0m     \u001b[0;32mreturn\u001b[0m \u001b[0mbase_model\u001b[0m\u001b[0;34m\u001b[0m\u001b[0m\n\u001b[1;32m     39\u001b[0m \u001b[0;34m\u001b[0m\u001b[0m\n\u001b[0;32m---> 40\u001b[0;31m \u001b[0mbase_model\u001b[0m \u001b[0;34m=\u001b[0m \u001b[0mbuild_model_from_rxn_ids\u001b[0m\u001b[0;34m(\u001b[0m\u001b[0mmodelseed_local\u001b[0m\u001b[0;34m,\u001b[0m \u001b[0mrxn_build_template\u001b[0m\u001b[0;34m)\u001b[0m\u001b[0;34m\u001b[0m\u001b[0m\n\u001b[0m",
      "\u001b[0;31mNameError\u001b[0m: name 'rxn_build_template' is not defined"
     ]
    }
   ],
   "source": [
    "def build_model_from_rxn_ids(ms, rxn_build_template):\n",
    "    all_compounds = []\n",
    "    all_reactions = []\n",
    "    all_reaction_compounds = {}\n",
    "    for rxn_id in rxn_build_template:\n",
    "        rxn = ms.get_seed_reaction(rxn_id)\n",
    "        balanced = rxn.data['status']\n",
    "        if balanced == 'OK':\n",
    "            cmps = set(map(lambda x : x[1], rxn.cstoichiometry))\n",
    "            for cmp_template in rxn_build_template[rxn_id]:\n",
    "                rxn_cmp = cmp_template['0']\n",
    "                cobra_reaction, cpd_cmp = modelseed_to_cobra_reaction(rxn, cmp_template, rxn_cmp)\n",
    "                for cpd_id in cpd_cmp:\n",
    "                    if not cpd_id in all_reaction_compounds:\n",
    "                        all_reaction_compounds[cpd_id] = set()\n",
    "                    for cmp_id in cpd_cmp[cpd_id]:\n",
    "                        all_reaction_compounds[cpd_id].add(cmp_id)\n",
    "\n",
    "                all_reactions.append(cobra_reaction)\n",
    "            \n",
    "    for cpd_id in all_reaction_compounds:\n",
    "        cpd = ms.get_seed_compound(cpd_id)\n",
    "        for cmp_id in all_reaction_compounds[cpd_id]:\n",
    "            all_compounds.append(modelseed_to_cobra_compound(cpd, cmp_id))\n",
    "            \n",
    "    logger.warning('metabolites (unique): %d, reactions: %d', len(all_reaction_compounds), len(all_reactions))\n",
    "            \n",
    "    base_model = {\n",
    "        'id' : 'ModelSEED Generic',\n",
    "        'version' : '1',\n",
    "        'compartments' : {'z' : 'any'},\n",
    "        'metabolites' : all_compounds,\n",
    "        'reactions' : all_reactions,\n",
    "        'genes' : [],\n",
    "        'annotation' : {}\n",
    "    }\n",
    "            \n",
    "    return base_model\n",
    "\n",
    "base_model = build_model_from_rxn_ids(modelseed_local, rxn_build_template)"
   ]
  },
  {
   "cell_type": "code",
   "execution_count": 31,
   "metadata": {},
   "outputs": [
    {
     "ename": "NameError",
     "evalue": "name 'cmp_id' is not defined",
     "output_type": "error",
     "traceback": [
      "\u001b[0;31m---------------------------------------------------------------------------\u001b[0m",
      "\u001b[0;31mNameError\u001b[0m                                 Traceback (most recent call last)",
      "\u001b[0;32m<ipython-input-31-702d112d2051>\u001b[0m in \u001b[0;36m<module>\u001b[0;34m\u001b[0m\n\u001b[0;32m----> 1\u001b[0;31m \u001b[0mcmp_id\u001b[0m\u001b[0;34m\u001b[0m\u001b[0m\n\u001b[0m",
      "\u001b[0;31mNameError\u001b[0m: name 'cmp_id' is not defined"
     ]
    }
   ],
   "source": [
    "cmp_id"
   ]
  },
  {
   "cell_type": "code",
   "execution_count": null,
   "metadata": {},
   "outputs": [],
   "source": []
  },
  {
   "cell_type": "code",
   "execution_count": 77,
   "metadata": {},
   "outputs": [],
   "source": [
    "all_compounds = []\n",
    "all_reactions = []\n",
    "all_reaction_compounds = {}\n",
    "for rxn_id in modelseed_local.reactions:\n",
    "    rxn = modelseed_local.get_seed_reaction(rxn_id)\n",
    "    if not rxn.is_obsolete and not rxn.is_transport:\n",
    "        cobra_reaction, cpd_cmp = modelseed_to_cobra_reaction(rxn, {'0' : None, '1' : None}, None)\n",
    "        all_reaction_compounds.update(cpd_cmp)\n",
    "        all_reactions.append(cobra_reaction)\n",
    "        \n",
    "        \n",
    "for cpd_id in all_reaction_compounds:\n",
    "    cpd = modelseed_local.get_seed_compound(cpd_id)\n",
    "    for cmp_id in all_reaction_compounds[cpd_id]:\n",
    "        all_compounds.append(modelseed_to_cobra_compound(cpd, cmp_id))\n",
    "\n",
    "base_model = {\n",
    "    'id' : 'ModelSEED Generic',\n",
    "    'version' : '1',\n",
    "    'compartments' : {'z' : 'any'},\n",
    "    'metabolites' : all_compounds,\n",
    "    'reactions' : all_reactions,\n",
    "    'genes' : [],\n",
    "    'annotation' : {}\n",
    "}"
   ]
  },
  {
   "cell_type": "code",
   "execution_count": 53,
   "metadata": {},
   "outputs": [],
   "source": [
    "for m in base_model['metabolites']:\n",
    "    if not type(m['name']) == str:\n",
    "        print(type(m['name']))\n",
    "for m in base_model['reactions']:\n",
    "    if not type(m['name']) == str:\n",
    "        print(type(m['name']))"
   ]
  },
  {
   "cell_type": "code",
   "execution_count": 78,
   "metadata": {},
   "outputs": [],
   "source": [
    "escher_builder = escher.Builder(model_json=json.dumps(base_model))"
   ]
  },
  {
   "cell_type": "code",
   "execution_count": 80,
   "metadata": {},
   "outputs": [],
   "source": [
    "#escher_builder.display_in_notebook(enable_editing=True)"
   ]
  },
  {
   "cell_type": "code",
   "execution_count": 82,
   "metadata": {},
   "outputs": [
    {
     "data": {
      "text/plain": [
       "'../index.html'"
      ]
     },
     "execution_count": 82,
     "metadata": {},
     "output_type": "execute_result"
    }
   ],
   "source": [
    "escher_builder.save_html('../index.html', overwrite=True)"
   ]
  },
  {
   "cell_type": "code",
   "execution_count": 76,
   "metadata": {},
   "outputs": [
    {
     "data": {
      "text/plain": [
       "{'id': 'rxn48575',\n",
       " 'name': 'rxn48575',\n",
       " 'metabolites': {'cpd37299': -2.0, 'cpd00794': 1.0, 'cpd02725': 1.0},\n",
       " 'lower_bound': -1000,\n",
       " 'upper_bound': 1000,\n",
       " 'gene_reaction_rule': '',\n",
       " 'annotation': {}}"
      ]
     },
     "execution_count": 76,
     "metadata": {},
     "output_type": "execute_result"
    }
   ],
   "source": [
    "def modelseed_to_cobra_compound(cpd, cmp = 'z'):\n",
    "    ccpd = copy.deepcopy(cobra_metabolite)\n",
    "    ccpd['id'] = cpd.id\n",
    "    ccpd['compartment'] = 'z'\n",
    "    if not cmp == None:\n",
    "        ccpd['id'] = cpd.id + '_' + cmp\n",
    "        ccpd['compartment'] = cmp\n",
    "    ccpd['name'] = cpd.data['name']\n",
    "    ccpd['formula'] = ''# if cpd.data['formula'] cpd.data['formula']\n",
    "    ccpd['charge'] = cpd.data['charge']\n",
    "    \n",
    "    \n",
    "    \n",
    "    return ccpd\n",
    "\n",
    "\n",
    "def modelseed_to_cobra_reaction(rxn, compartment = {'0' : None}, rxn_cmp_suffix = 'c', lb = None, ub = None):\n",
    "    crxn = copy.deepcopy(cobra_reaction)\n",
    "    crxn['id'] = rxn.id\n",
    "    if not rxn_cmp_suffix == None:\n",
    "        crxn['id'] = rxn.id + '_' + rxn_cmp_suffix\n",
    "    crxn['name'] = rxn.id\n",
    "    \n",
    "    metabolites = {}\n",
    "    cpd_cmp = {}\n",
    "    cs = rxn.cstoichiometry\n",
    "    #print(cs)\n",
    "    for p in cs:\n",
    "        value = cs[p]\n",
    "        met_id = p[0]\n",
    "        if not p[1] in compartment:\n",
    "            print(rxn.data)\n",
    "        cmp = compartment[p[1]]\n",
    "        if not cmp == None and not len(cmp.strip()) == 0:\n",
    "            met_id += '_' + cmp.strip()\n",
    "        elif cmp == None or len(cmp.strip()) == 0:\n",
    "            cmp = None\n",
    "        else:\n",
    "            cmp = 'z'\n",
    "        if not met_id in metabolites:\n",
    "            metabolites[met_id] = value\n",
    "            if not p[0] in cpd_cmp:\n",
    "                cpd_cmp[p[0]] = set()\n",
    "            cpd_cmp[p[0]].add(cmp)\n",
    "        else:\n",
    "            print('!', rxn.id)\n",
    "    \n",
    "    rev = rxn.data['direction'] #direction\n",
    "    if lb == None and ub == None:\n",
    "        \n",
    "        lb = -1000\n",
    "        ub =  1000\n",
    "        #print('reversibility', rxn.data['reversibility'], 'direction', rxn.data['direction'])\n",
    "        if rev == '>':\n",
    "            lb = 0\n",
    "        elif rev == '<':\n",
    "            ub = 0\n",
    "    crxn['lower_bound'] = lb\n",
    "    crxn['upper_bound'] = ub\n",
    "    crxn['metabolites'] = metabolites\n",
    "    return crxn, cpd_cmp\n",
    "#rxn = modelseed_local.get_seed_reaction('rxn08071')\n",
    "#print(rxn.cstoichiometry)\n",
    "#modelseed_to_cobra_reaction(rxn, {'0' : ''})\n",
    "cobra_reaction, cpd_cmp = modelseed_to_cobra_reaction(rxn, {'0' : None, '1' : None}, None)\n",
    "cobra_reaction"
   ]
  },
  {
   "cell_type": "code",
   "execution_count": 20,
   "metadata": {},
   "outputs": [],
   "source": [
    "for rxn_id in modelseed_local.reactions:\n",
    "    rxn = modelseed_local.get_seed_reaction(rxn_id)\n",
    "    if not rxn.is_obsolete and not rxn.is_transport:\n",
    "        modelseed_to_cobra_reaction(rxn, {'0' : '', '1' : ''})"
   ]
  },
  {
   "cell_type": "code",
   "execution_count": null,
   "metadata": {},
   "outputs": [],
   "source": []
  },
  {
   "cell_type": "code",
   "execution_count": null,
   "metadata": {},
   "outputs": [],
   "source": []
  },
  {
   "cell_type": "code",
   "execution_count": null,
   "metadata": {},
   "outputs": [],
   "source": []
  },
  {
   "cell_type": "code",
   "execution_count": null,
   "metadata": {},
   "outputs": [],
   "source": []
  }
 ],
 "metadata": {
  "kernelspec": {
   "display_name": "Python 3",
   "language": "python",
   "name": "python3"
  },
  "language_info": {
   "codemirror_mode": {
    "name": "ipython",
    "version": 3
   },
   "file_extension": ".py",
   "mimetype": "text/x-python",
   "name": "python",
   "nbconvert_exporter": "python",
   "pygments_lexer": "ipython3",
   "version": "3.6.5"
  }
 },
 "nbformat": 4,
 "nbformat_minor": 2
}
